{
 "cells": [
  {
   "cell_type": "code",
   "execution_count": 1,
   "metadata": {},
   "outputs": [],
   "source": [
    "% matplotlib inline\n",
    "import numpy as np\n",
    "import matplotlib.pyplot as plt\n",
    "import cv2\n",
    "from skimage import *"
   ]
  },
  {
   "cell_type": "code",
   "execution_count": 2,
   "metadata": {},
   "outputs": [],
   "source": [
    "image = cv2.imread('../shanu/Desktop/WhatsAppImage1.jpeg')\n",
    "gray = cv2.cvtColor(image,cv2.COLOR_BGR2GRAY)"
   ]
  },
  {
   "cell_type": "code",
   "execution_count": 3,
   "metadata": {},
   "outputs": [],
   "source": [
    "def rescaling(image):\n",
    "    max_dimension = max(image.shape)\n",
    "    scale= 640.0/max_dimension\n",
    "    image = cv2.resize(image,None,fx=scale,fy=scale,interpolation = cv2.INTER_AREA)\n",
    "    return image"
   ]
  },
  {
   "cell_type": "code",
   "execution_count": 4,
   "metadata": {},
   "outputs": [],
   "source": [
    "def printImage(image):\n",
    "    cv2.imshow('image',image)\n",
    "    cv2.waitKey(0)\n",
    "    cv2.destroyAllWindows()"
   ]
  },
  {
   "cell_type": "code",
   "execution_count": 21,
   "metadata": {},
   "outputs": [],
   "source": [
    "img = rescaling(image)\n",
    "gray = cv2.cvtColor(img,cv2.COLOR_BGR2GRAY)\n",
    "gray = np.float32(gray)\n",
    "# sobel = cv2.Sobel(gray,ddepth=32,ksize = 3,scale = 1,delta = 0,borderType = 'BORDER_DEFAULT')\n",
    "# print sobel\n",
    "dst = cv2.cornerHarris(gray,2,3,0.04)\n",
    "\n",
    "dst = cv2.dilate(dst,None)\n",
    "img[dst>0.001*dst.max()]=[0,0,255]\n",
    "printImage(img)"
   ]
  },
  {
   "cell_type": "code",
   "execution_count": 17,
   "metadata": {},
   "outputs": [],
   "source": [
    "# def find(img, window_size, k, thresh):\n",
    "###edge density and corner density paramaters\n",
    "window_size = 7\n",
    "img = gray\n",
    "#calculating gradients Ix,Iy\n",
    "dy, dx = np.gradient(img)\n",
    "Ixx = dx**2\n",
    "Ixy = dy*dx\n",
    "Iyy = dy**2\n",
    "height = img.shape[0]\n",
    "width = img.shape[1]\n",
    "offset = window_size/2\n",
    "#structure matrix M = (Ixx,Ixy)\n",
    "#                     (Ixy,Iyy)\n",
    "structure_row = []\n",
    "edgeDensity = []\n",
    "cornerDensity = []\n",
    "for y in range(offset, height-offset):\n",
    "    structure_col = []\n",
    "    edge_density = []\n",
    "    corner_density = []\n",
    "    for x in range(offset, width-offset):\n",
    "#         Calculate sum of squares\n",
    "        windowIxx = Ixx[y-offset:y+offset+1, x-offset:x+offset+1]\n",
    "        windowIxy = Ixy[y-offset:y+offset+1, x-offset:x+offset+1]\n",
    "        windowIyy = Iyy[y-offset:y+offset+1, x-offset:x+offset+1]\n",
    "        Cxx = windowIxx.sum()\n",
    "        Cxy = windowIxy.sum()\n",
    "        Cyy = windowIyy.sum()\n",
    "        #calculating edge density and corner density params\n",
    "        m1 = ((Cxx-Cyy)**2 + 4*(Cxy)**2)/((Cxx+Cyy)**2 + 0.03)\n",
    "        edge_density.append(m1)\n",
    "        m2 = (4*(Cxx*Cyy - Cxy*2))/((Cxx+Cyy)**2 + 0.03)\n",
    "        corner_density.append(m2) \n",
    "        structure = np.stack([[Cxx,Cxy],[Cxy,Cyy]]) \n",
    "        structure_col.append(structure)\n",
    "#         print structure\n",
    "    edge_density = np.array(edge_density)\n",
    "    corner_density = np.array(corner_density)\n",
    "    structure_col = np.array(structure_col)\n",
    "    structure_row.append(structure_col)\n",
    "    edgeDensity.append(edge_density)\n",
    "    cornerDensity.append(corner_density)\n",
    "structure_row = np.array(structure_row)\n",
    "edgeDensity = np.array(edgeDensity)\n",
    "cornerDensity = np.array(cornerDensity)"
   ]
  },
  {
   "cell_type": "code",
   "execution_count": null,
   "metadata": {},
   "outputs": [],
   "source": [
    "#masking using brightness value feature of qr grid\n",
    "img = rescaling(image)\n",
    "hsv_image = cv2.cvtColor(img,cv2.COLOR_BGR2HSV)\n",
    "printImage(hsv_image)\n",
    "hue_channel = hsv_image[:,:,0]\n",
    "sat_channel = hsv_image[:,:,1]\n",
    "print np.max(sat_channel)\n",
    "val_channel = hsv_image[:,:,2]\n",
    "print np.max(val_channel)\n",
    "hist2d = cv2.calcHist(hsv_image,[2,1],None,[255,255],[0,255,0,255])\n",
    "# plt.imshow(hist2d,interpolation = 'nearest')\n",
    "plt.plot(hist2d,'r')\n",
    "plt.show\n",
    "#masking based on brightness level\n",
    "min_saturation = np.array([0,0,0],np.uint8)\n",
    "max_saturation = np.array([180,140,100],np.uint8)\n",
    "mask = cv2.inRange(hsv_image,min_saturation,max_saturation)\n",
    "mask_invert = cv2.bitwise_not(mask)\n",
    "printImage(mask_invert)\n",
    "# mask_bgr = cv2.cvtColor(mask,cv2.COLOR_HSV2RGB)\n",
    "mean_val = np.mean(val_channel)\n",
    "std_val = np.std(val_channel)\n",
    "mean_sat = np.mean(sat_channel)\n",
    "std_sat = np.std(sat_channel)\n",
    "print mean_sat,std_sat\n",
    "print mean_val,std_val\n"
   ]
  },
  {
   "cell_type": "code",
   "execution_count": null,
   "metadata": {},
   "outputs": [],
   "source": [
    "image_hsv = cv2.cvtColor(image,cv2.COLOR_BGR2HSV)\n",
    "blue_min = np.array([100,100,100],np.uint8)\n",
    "blue_max = np.array([140,255,255],np.uint8)\n",
    "mask = cv2.inRange(image_hsv,blue_min,blue_max)\n",
    "plt.subplot(221)\n",
    "plt.imshow(mask,cmap = 'gray')\n",
    "masked_image = cv2.bitwise_not(mask)\n",
    "print masked_image\n",
    "masked_upstate = cv2.cvtColor(masked_image,cv2.COLOR_GRAY2BGR)\n",
    "masked_upstate = cv2.bitwise_and(image,masked_upstate)\n",
    "weighted_masked = cv2.addWeighted(masked_upstate,1,cv2.cvtColor(masked_image,cv2.COLOR_GRAY2BGR),1,0)\n",
    "printImage(masked_image)"
   ]
  },
  {
   "cell_type": "code",
   "execution_count": null,
   "metadata": {},
   "outputs": [],
   "source": [
    "img = cv2.imread('//home/shanu/Desktop/edgedImage.png',0)\n",
    "printImage(img)\n",
    "num_pix_threshold = 110 # minimum number of pixels that must be on a line\n",
    "\n",
    "printImage(img)    "
   ]
  },
  {
   "cell_type": "code",
   "execution_count": null,
   "metadata": {},
   "outputs": [],
   "source": [
    "CMYK_image = cv2.cvtColor(image,cv2.COLOR_BGR2RGBA)\n",
    "# plt.figure(figsize = (8,7))\n",
    "# plt.plot(black_channel,'b')\n",
    "# plt.show\n",
    "# blur = cv2.GuasianBlur(image,)\n",
    "tmp = cv2.cvtColor(image,cv2.COLOR_BGR2HSV)\n",
    "print type(tmp[1,1,0])\n",
    "# print type(black_channel[1,1])"
   ]
  },
  {
   "cell_type": "code",
   "execution_count": null,
   "metadata": {},
   "outputs": [],
   "source": [
    "print image.shape\n",
    "average_color_per_row = np.average(image, axis=0)\n",
    "average_color = np.average(average_color_per_row, axis=0)\n",
    "average_color = np.uint8(average_color)\n",
    "new_image = np.array([[average_color]*500]*500,np.uint8)\n",
    "printImage(new_image)"
   ]
  },
  {
   "cell_type": "code",
   "execution_count": null,
   "metadata": {},
   "outputs": [],
   "source": []
  },
  {
   "cell_type": "code",
   "execution_count": null,
   "metadata": {},
   "outputs": [],
   "source": [
    "lists = [1,2,2,4]\n",
    "for x, element in enumerate(lists):\n",
    "    print x+1, element \n",
    "    "
   ]
  },
  {
   "cell_type": "code",
   "execution_count": null,
   "metadata": {},
   "outputs": [],
   "source": [
    "_dict = {1:'first', 2:'second',3:'third'}\n",
    "print _dict.get(3,'na')\n",
    "print type(_dict.items())"
   ]
  },
  {
   "cell_type": "code",
   "execution_count": null,
   "metadata": {},
   "outputs": [],
   "source": [
    "from math import sqrt\n",
    "sets = {int(sqrt(x)) for x in range(30)}"
   ]
  },
  {
   "cell_type": "code",
   "execution_count": null,
   "metadata": {},
   "outputs": [],
   "source": [
    "a = np.full((500,500,3),255.0,dtype=np.float32)\n",
    "a= np.array([[1,2,3], [4,5,6], [7,8,9], [10, 11, 12]])\n",
    "print a.shape"
   ]
  },
  {
   "cell_type": "code",
   "execution_count": null,
   "metadata": {},
   "outputs": [],
   "source": [
    "b = [0,1,2]\n",
    "print a[b,(np.arange(3))]"
   ]
  },
  {
   "cell_type": "code",
   "execution_count": null,
   "metadata": {},
   "outputs": [],
   "source": []
  }
 ],
 "metadata": {
  "kernelspec": {
   "display_name": "Python 2",
   "language": "python",
   "name": "python2"
  },
  "language_info": {
   "codemirror_mode": {
    "name": "ipython",
    "version": 2
   },
   "file_extension": ".py",
   "mimetype": "text/x-python",
   "name": "python",
   "nbconvert_exporter": "python",
   "pygments_lexer": "ipython2",
   "version": "2.7.14"
  }
 },
 "nbformat": 4,
 "nbformat_minor": 2
}
