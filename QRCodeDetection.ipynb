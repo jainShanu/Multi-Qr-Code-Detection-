{
  "nbformat": 4,
  "nbformat_minor": 0,
  "metadata": {
    "kernelspec": {
      "display_name": "Python 2",
      "language": "python",
      "name": "python2"
    },
    "language_info": {
      "codemirror_mode": {
        "name": "ipython",
        "version": 2
      },
      "file_extension": ".py",
      "mimetype": "text/x-python",
      "name": "python",
      "nbconvert_exporter": "python",
      "pygments_lexer": "ipython2",
      "version": "2.7.14"
    },
    "colab": {
      "name": "QRCodeDetection.ipynb",
      "provenance": []
    }
  },
  "cells": [
    {
      "cell_type": "code",
      "metadata": {
        "id": "KgxQJph2qe09"
      },
      "source": [
        "import cv2\n",
        "from matplotlib import pyplot  as plt\n",
        "import numpy as np\n",
        "from math import cos \n",
        "from skimage.filters import (threshold_otsu, threshold_niblack,\n",
        "                             threshold_sauvola)"
      ],
      "execution_count": 1,
      "outputs": []
    },
    {
      "cell_type": "code",
      "metadata": {
        "id": "Elq7tuQdqe1E"
      },
      "source": [
        "def rescaling(image):\n",
        "    max_dimension = max(image.shape)\n",
        "    scale = 500.0/max_dimension \n",
        "    if scale < 1.0: \n",
        "        image = cv2.resize(image,None,fx=scale,fy=scale,interpolation=cv2.INTER_AREA )\n",
        "        return image\n",
        "    else:\n",
        "        image = cv2.resize(image,None,fx=scale,fy=scale,interpolation = cv2.INTER_CUBIC)\n",
        "        return image"
      ],
      "execution_count": 2,
      "outputs": []
    },
    {
      "cell_type": "code",
      "metadata": {
        "id": "uNmT717gqe1F"
      },
      "source": [
        "import glob\n",
        "images = [rescaling(cv2.imread(file)) for file in glob.glob(\"./Desktop/test_images/*\")]"
      ],
      "execution_count": null,
      "outputs": []
    },
    {
      "cell_type": "code",
      "metadata": {
        "id": "016pBUGvqe1H"
      },
      "source": [
        "def printImage(img):\n",
        "    cv2.imshow('image',img)\n",
        "    key = cv2.waitKey(0)\n",
        "    cv2.destroyAllWindows()\n",
        "    return key"
      ],
      "execution_count": 3,
      "outputs": []
    },
    {
      "cell_type": "code",
      "metadata": {
        "id": "FST-MLNcqe1H"
      },
      "source": [
        "def printAndCompare(image1,image2):\n",
        "    concatenateHorizontal = np.concatenate((image1,image2),axis = 1)\n",
        "    cv2.imshow('concatenateHor',concatenateHorizontal)\n",
        "    k=cv2.waitKey(0)\n",
        "    cv2.destroyAllWindows()\n",
        "    return k"
      ],
      "execution_count": null,
      "outputs": []
    },
    {
      "cell_type": "code",
      "metadata": {
        "id": "XJGou4MCqe1I"
      },
      "source": [
        "def GrayScale(img):\n",
        "    gray=cv2.cvtColor(img,cv2.COLOR_BGR2GRAY) \n",
        "    return gray"
      ],
      "execution_count": null,
      "outputs": []
    },
    {
      "cell_type": "code",
      "metadata": {
        "id": "NmfmGdcNqe1I"
      },
      "source": [
        "def masking(img,sat,val):\n",
        "    image_hsv = cv2.cvtColor(cv2.cvtColor(img,cv2.COLOR_GRAY2BGR),cv2.COLOR_BGR2HSV)\n",
        "    min_val = np.array([0,0,0],np.uint8)\n",
        "    max_val = np.array([255,sat,val],np.uint8)\n",
        "    # masking out the image(separating bg from fg) on basis of values lying in the above range of hsv color channel\n",
        "    mask = cv2.inRange(image_hsv,min_val,max_val)\n",
        "    #inverting the mask\n",
        "    invert_masked = cv2.bitwise_not(mask)\n",
        "    #boolean anding with the original image\n",
        "    invertMaskedColored = cv2.cvtColor(invert_masked,cv2.COLOR_GRAY2RGB)\n",
        "    maskedImage = cv2.bitwise_and(image,invertMaskedColored)\n",
        "    printAndCompare(maskedImage,image)\n",
        "    #add maskedImage and invertMasked(bg px with 0 and fg px with 1) image to normalize fg px values\n",
        "    finalMasked = cv2.addWeighted(maskedImage,1,cv2.cvtColor(invert_masked,cv2.COLOR_GRAY2BGR),0,1)\n",
        "    return finalMasked"
      ],
      "execution_count": null,
      "outputs": []
    },
    {
      "cell_type": "code",
      "metadata": {
        "id": "1q4bwaddqe1I"
      },
      "source": [
        "def adaptiveThresh(img):\n",
        "    thresh = cv2.adaptiveThreshold(img,255,cv2.ADAPTIVE_THRESH_GAUSSIAN_C,cv2.THRESH_BINARY,5,2)\n",
        "    printImage(thresh)"
      ],
      "execution_count": null,
      "outputs": []
    },
    {
      "cell_type": "code",
      "metadata": {
        "id": "X8kvLJpoqe1J"
      },
      "source": [
        "def otsuThresh(img,kernelSize): \n",
        "    blur = cv2.GaussianBlur(img,(5,5),0)\n",
        "    ret2,th2 = cv2.threshold(blur,0,255,cv2.THRESH_BINARY+cv2.THRESH_OTSU)    # convert to grayscale(binary image)\n",
        "    return th2"
      ],
      "execution_count": null,
      "outputs": []
    },
    {
      "cell_type": "code",
      "metadata": {
        "id": "w3cvELfhqe1J"
      },
      "source": [
        "def sauvolaThreshold(img,_k,_r):\n",
        "    thresh_sauvola = threshold_sauvola(img, window_size=15 ,k=_k,r=_r)\n",
        "    binary_sauvola = img > thresh_sauvola\n",
        "    plt.imsave('Sauvola',np.uint8(binary_sauvola)*255,cmap = 'gray',format = 'png')\n",
        "    return plt.imread('Sauvola')"
      ],
      "execution_count": null,
      "outputs": []
    },
    {
      "cell_type": "code",
      "metadata": {
        "id": "Ph_vIhLOqe1J"
      },
      "source": [
        "def cannyEdge(image,threshold1,threshold2):\n",
        "    edged = cv2.Canny(image, threshold1, threshold2)\n",
        "    return edged"
      ],
      "execution_count": null,
      "outputs": []
    },
    {
      "cell_type": "code",
      "metadata": {
        "id": "aiyLgPy-qe1J"
      },
      "source": [
        "# thresholding and finding contours\n",
        "for ix,image in enumerate(images):\n",
        "    #histogram equalization of high or low contrast image\n",
        "    gray = GrayScale(image)\n",
        "    clahe1 = cv2.createCLAHE(clipLimit=4.0, tileGridSize=(6,6))\n",
        "#     clahe2 = cv2.createCLAHE(clipLimit=6.0, tileGridSize=(8,8))\n",
        "    cl1 = clahe1.apply(gray)\n",
        "#     cl2 = clahe2.apply(gray)\n",
        "#     k = printAndCompare(cl1,cl2)\n",
        "    maskedImage = masking(cl1,120,100)\n",
        "    k = printImage(maskedImage)\n",
        "    if k==27:\n",
        "        continue\n",
        "    thresh = sauvolaThreshold(maskedImage,0.5,120)\n",
        "    edged = cannyEdge(thresh,30,80)\n",
        "    k = printImage(edged)\n",
        "    if k==27:\n",
        "        continue\n",
        "    contouredIm,contours,hierarchy_arr = cv2.findContours(edged.copy(),cv2.RETR_TREE, cv2.CHAIN_APPROX_SIMPLE)\n",
        "    hierarchy = hierarchy_arr[0]\n",
        "#   contour_list = []\n",
        "#   parentMap = {}\n",
        "#   getMarkerList(0,1)\n",
        "#   contour_list = np.array(contour_list)\n",
        "    edged = cv2.cvtColor(edged,cv2.COLOR_GRAY2BGR)\n",
        "    idx = 0\n",
        "#     drawing all the contours at same hierarchy level with different colors \n",
        "    while idx >= 0:\n",
        "        color = np.array([ np.random.randint(0,255) , np.random.randint(0,255), np.random.randint(0,255)])\n",
        "        final_image = cv2.drawContours(image, np.array(contours), idx, color ,3 )\n",
        "        k = printAndCompare(final_image,edged)\n",
        "        if k==27:\n",
        "            break\n",
        "        idx = hierarchy[idx][0]\n",
        "    concatenated = np.concatenate((final_image,edged),axis = 1)    \n",
        "    imageName = 'contoured' + str(ix) +'.png'\n",
        "    cv2.imwrite(imageName,concatenated)    \n"
      ],
      "execution_count": null,
      "outputs": []
    },
    {
      "cell_type": "code",
      "metadata": {
        "id": "x3Xy9A3qqe1K"
      },
      "source": [
        "#using hierarchy tree returns -1 or level to the calling parent and checking if the difference of the childLevel and parent level is 2\n",
        "def getMarkerList(index,level):\n",
        "    #if last child in hierarchy tree\n",
        "    if hierarchy[index][0]==-1 and hierarchy[index][1]==-1 and hierarchy[index][2]==-1 and hierarchy[index][3]!=-1 :\n",
        "        return level\n",
        "    \n",
        "    if hierarchy[index][0]==-1 and hierarchy[index][2]==-1 and hierarchy[index][1]!=-1:\n",
        "        return -1\n",
        "    #if child exists\n",
        "    if hierarchy[index][2]!=-1 :\n",
        "        childLevel = getMarkerList(hierarchy[index][2],level+1)  #explore its child hierarch\n",
        "        #if level diff is less than 2 and next hierarchy component does not exists\n",
        "        if childLevel!=-1:\n",
        "            #analysing child\n",
        "            if (childLevel-level)<2:\n",
        "                if hierarchy[index][0] == -1 and hierarchy[index][1]==-1:\n",
        "#                     print \"-------------------------\",level-childLevel\n",
        "                    return childLevel\n",
        "                elif hierarchy[index][0]!=-1:\n",
        "                    return getMarkerList(hierarchy[index][0],level)\n",
        "            if(childLevel-level)==2:\n",
        "                #add to the cont_list and check next hierarchy level if exists return -1\n",
        "                contour_list.append(contours[index])\n",
        "                parentMap[index]=hierarchy[index][3] #contour index and its parent\n",
        "                if hierarchy[index][0]!=-1:\n",
        "                    return getMarkerList(hierarchy[index][0],level)\n",
        "                return -1\n",
        "        else:\n",
        "            #child exists but contour value is not of interest\n",
        "            if hierarchy[index][0]!=-1:\n",
        "                return getMarkerList(hierarchy[index][0],level)\n",
        "            return -1\n",
        "    if hierarchy[index][0]!=-1:\n",
        "        return getMarkerList(hierarchy[index][0],level)\n",
        "       \n",
        "    return -1    \n",
        "    "
      ],
      "execution_count": null,
      "outputs": []
    },
    {
      "cell_type": "code",
      "metadata": {
        "collapsed": true,
        "id": "jsE3T7ihqe1L",
        "outputId": "28f20fa1-c75c-4de1-f604-3818564c0cff"
      },
      "source": [
        "#contour_list is the all the components detected following the desired hierarchy\n",
        "#further reduce the contour_list by checking ratio \n",
        "#parentMap consists of all the parent level hierarchy of Finder Pattern detected\n",
        "new_list = []\n",
        "contour_list = np.array(contour_list)\n",
        "final_img = cv2.drawContours(image, contour_list,-1, (0,255,0), 3)\n",
        "printImage(final_img)\n",
        "cv2.destroyAllWindows()"
      ],
      "execution_count": null,
      "outputs": [
        {
          "output_type": "error",
          "ename": "NameError",
          "evalue": "name 'contour_list' is not defined",
          "traceback": [
            "\u001b[0;31m---------------------------------------------------------------------------\u001b[0m",
            "\u001b[0;31mNameError\u001b[0m                                 Traceback (most recent call last)",
            "\u001b[0;32m<ipython-input-49-e390ccac8a87>\u001b[0m in \u001b[0;36m<module>\u001b[0;34m()\u001b[0m\n\u001b[1;32m      3\u001b[0m \u001b[0;31m#parentMap consists of all the parent level hierarchy of Finder Pattern detected\u001b[0m\u001b[0;34m\u001b[0m\u001b[0;34m\u001b[0m\u001b[0m\n\u001b[1;32m      4\u001b[0m \u001b[0mnew_list\u001b[0m \u001b[0;34m=\u001b[0m \u001b[0;34m[\u001b[0m\u001b[0;34m]\u001b[0m\u001b[0;34m\u001b[0m\u001b[0m\n\u001b[0;32m----> 5\u001b[0;31m \u001b[0mcontour_list\u001b[0m \u001b[0;34m=\u001b[0m \u001b[0mnp\u001b[0m\u001b[0;34m.\u001b[0m\u001b[0marray\u001b[0m\u001b[0;34m(\u001b[0m\u001b[0mcontour_list\u001b[0m\u001b[0;34m)\u001b[0m\u001b[0;34m\u001b[0m\u001b[0m\n\u001b[0m\u001b[1;32m      6\u001b[0m \u001b[0mfinal_img\u001b[0m \u001b[0;34m=\u001b[0m \u001b[0mcv2\u001b[0m\u001b[0;34m.\u001b[0m\u001b[0mdrawContours\u001b[0m\u001b[0;34m(\u001b[0m\u001b[0mimage\u001b[0m\u001b[0;34m,\u001b[0m \u001b[0mcontour_list\u001b[0m\u001b[0;34m,\u001b[0m\u001b[0;34m-\u001b[0m\u001b[0;36m1\u001b[0m\u001b[0;34m,\u001b[0m \u001b[0;34m(\u001b[0m\u001b[0;36m0\u001b[0m\u001b[0;34m,\u001b[0m\u001b[0;36m255\u001b[0m\u001b[0;34m,\u001b[0m\u001b[0;36m0\u001b[0m\u001b[0;34m)\u001b[0m\u001b[0;34m,\u001b[0m \u001b[0;36m3\u001b[0m\u001b[0;34m)\u001b[0m\u001b[0;34m\u001b[0m\u001b[0m\n\u001b[1;32m      7\u001b[0m \u001b[0mprintImage\u001b[0m\u001b[0;34m(\u001b[0m\u001b[0mfinal_img\u001b[0m\u001b[0;34m)\u001b[0m\u001b[0;34m\u001b[0m\u001b[0m\n",
            "\u001b[0;31mNameError\u001b[0m: name 'contour_list' is not defined"
          ]
        }
      ]
    },
    {
      "cell_type": "code",
      "metadata": {
        "id": "PAcy6JMzqe1M"
      },
      "source": [
        "# checking rectangle perimeter ratio and hierarchy\n",
        "def SearchPattern(contour , hierarchy ,level , _dict ,cont_list):\n",
        "    if(level>=2 and hierarchy[2].any()==-1) :\n",
        "        level = level-1\n",
        "        if isRect(contour) and SearchPattern(contours,hierarchy,level+1)==2:  #decrementing the level and ret value is 1\n",
        "            _dict[level]==cv2.arcLength(contour)\n",
        "            cont_list.append(contour)\n",
        "            return 1\n",
        "        else:\n",
        "            return 0    \n",
        "    peri = cv2.arcLength(contours,True)\n",
        "    approx = cv2.approxPolyDP(contours,peri*0.02,True)\n",
        "#     if  cv2.contourArea(contours) and len(approx)==4:\n",
        "    if isRect(contour):\n",
        "        ret = SearchPattern(contours[hierarchy[2]],hierarchy[hierarchy[2]],_dict,level+1 )\n",
        "        if ret == 1:  \n",
        "            level=level-1\n",
        "            _dict[level] = cv2.arcLength(contours,True)\n",
        "            cont_list.append()\n",
        "            return 1\n",
        "        if ret == 2:\n",
        "            _dict[level] = cv2.arcLength(contours,True) \n",
        "            cont_list.append(contour)\n",
        "            return 2\n",
        "    else:\n",
        "        return 0            "
      ],
      "execution_count": null,
      "outputs": []
    },
    {
      "cell_type": "code",
      "metadata": {
        "id": "pF9xtEBRqe1M"
      },
      "source": [
        "#to check if the contour/shape is rectangle\n",
        "def IsRect(contour):\n",
        "    peri = cv2.arcLength(contour,True)\n",
        "    approx = cv2.approxPolyDP(contour,peri*0.02,True)\n",
        "    return  (cv2.contourArea(contour) and len(approx)==4) ##len(no of sides) of approximated curve is 4  "
      ],
      "execution_count": null,
      "outputs": []
    },
    {
      "cell_type": "code",
      "metadata": {
        "id": "usHF5F90qe1M"
      },
      "source": [
        "def findPattern(contours, hierarchy):\n",
        "    i=0\n",
        "    contour_list =[]\n",
        "    rect_count = 0\n",
        "    while i<len(contours):\n",
        "        if (hierarchy[i][1])==-1 and (hierarchy[i][0])==-1:\n",
        "            i=hierarchy[contours[i]][2] \n",
        "        level= 0\n",
        "        _dictionary = {}\n",
        "        #if it is rectangle and child exists\n",
        "        if IsRect(contours[i]) and ((hierarchy[i][2])==-1) :\n",
        "            #check the value returned from the searchPattern to add contour to the list\n",
        "            #if it is outer component(return value =2) go to \n",
        "            cont_list = []\n",
        "            if SearchPattern(contours[hierarchy[i][2]],hierarchy[hierarchy[i][2]],level+1,_dictionary,cont_list)==2:\n",
        "                _dictionary[level] = cv2.arcLength(contours[i])\n",
        "                if _dictionary[0]/_dictionary[1] == 7.0/5.0 and _dictionary[1]/_dictionary[2] == 5.0/3.0:\n",
        "                    contour_list.merge(cont_list.append(contours[i]))\n",
        "                    rect_count = rect_count+1 \n",
        "            if SearchPattern(contours[hierarchy[i][2]],hierarchy[hierarchy[i][2]],level+1,_dictionary,cont_list) == 1:\n",
        "                    #check inner component if part of the pattern then  \n",
        "                if _dictionary[0]/_dictionary[1] == 7.0/5.0 and _dictionary[1]/_dictionary[2] == 5.0/3.0:\n",
        "                    contour_list.merge(cont_list)\n",
        "                    rect_count+=1\n",
        "                elif hierarchy[hierarchy[i][2]][1]!=-1:\n",
        "                    i = hierarchy[hierarchy[i][2]][1] #go to the next level of its child\n",
        "        else: \n",
        "            i = hierarchy[i][0]\n",
        "    return (rect_count==3) , contour_list"
      ],
      "execution_count": null,
      "outputs": []
    },
    {
      "cell_type": "code",
      "metadata": {
        "id": "vo2fvpGCqe1M"
      },
      "source": [
        ""
      ],
      "execution_count": null,
      "outputs": []
    }
  ]
}